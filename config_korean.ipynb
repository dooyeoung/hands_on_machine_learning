{
 "cells": [
  {
   "cell_type": "code",
   "execution_count": 1,
   "metadata": {},
   "outputs": [],
   "source": [
    "import matplotlib"
   ]
  },
  {
   "cell_type": "code",
   "execution_count": 2,
   "metadata": {
    "scrolled": true
   },
   "outputs": [
    {
     "data": {
      "text/plain": [
       "{'.Keyboard',\n",
       " '.LastResort',\n",
       " '.SF Compact Display',\n",
       " '.SF Compact Rounded',\n",
       " '.SF Compact Text',\n",
       " '.SF NS Display Condensed',\n",
       " '.SF NS Text Condensed',\n",
       " 'Andale Mono',\n",
       " 'Apple Braille',\n",
       " 'Apple Chancery',\n",
       " 'Apple Symbols',\n",
       " 'AppleGothic',\n",
       " 'AppleMyungjo',\n",
       " 'Arial',\n",
       " 'Arial Black',\n",
       " 'Arial Narrow',\n",
       " 'Arial Rounded MT Bold',\n",
       " 'Arial Unicode MS',\n",
       " 'Ayuthaya',\n",
       " 'Big Caslon',\n",
       " 'Bodoni 72 Smallcaps',\n",
       " 'Bodoni Ornaments',\n",
       " 'Bradley Hand',\n",
       " 'Brush Script MT',\n",
       " 'Chalkduster',\n",
       " 'Comic Sans MS',\n",
       " 'Courier New',\n",
       " 'DIN Alternate',\n",
       " 'DIN Condensed',\n",
       " 'DejaVu Sans',\n",
       " 'DejaVu Sans Display',\n",
       " 'DejaVu Sans Mono',\n",
       " 'DejaVu Serif',\n",
       " 'DejaVu Serif Display',\n",
       " 'Diwan Thuluth',\n",
       " 'Farisi',\n",
       " 'Georgia',\n",
       " 'Gurmukhi MT',\n",
       " 'Herculanum',\n",
       " 'Hoefler Text',\n",
       " 'Impact',\n",
       " 'Khmer Sangam MN',\n",
       " 'Kokonor',\n",
       " 'Krungthep',\n",
       " 'Lao Sangam MN',\n",
       " 'Luminari',\n",
       " 'Microsoft Sans Serif',\n",
       " 'Mishafi',\n",
       " 'Mishafi Gold',\n",
       " 'Plantagenet Cherokee',\n",
       " 'STIXGeneral',\n",
       " 'STIXIntegralsD',\n",
       " 'STIXIntegralsSm',\n",
       " 'STIXIntegralsUp',\n",
       " 'STIXIntegralsUpD',\n",
       " 'STIXIntegralsUpSm',\n",
       " 'STIXNonUnicode',\n",
       " 'STIXSizeFiveSym',\n",
       " 'STIXSizeFourSym',\n",
       " 'STIXSizeOneSym',\n",
       " 'STIXSizeThreeSym',\n",
       " 'STIXSizeTwoSym',\n",
       " 'STIXVariants',\n",
       " 'Sathu',\n",
       " 'Silom',\n",
       " 'Skia',\n",
       " 'Symbol',\n",
       " 'System Font',\n",
       " 'Tahoma',\n",
       " 'Times New Roman',\n",
       " 'Trattatello',\n",
       " 'Trebuchet MS',\n",
       " 'Verdana',\n",
       " 'Webdings',\n",
       " 'Wingdings',\n",
       " 'Wingdings 2',\n",
       " 'Wingdings 3',\n",
       " 'Zapf Dingbats',\n",
       " 'Zapfino',\n",
       " 'cmb10',\n",
       " 'cmex10',\n",
       " 'cmmi10',\n",
       " 'cmr10',\n",
       " 'cmss10',\n",
       " 'cmsy10',\n",
       " 'cmtt10'}"
      ]
     },
     "execution_count": 2,
     "metadata": {},
     "output_type": "execute_result"
    }
   ],
   "source": [
    "set([f.name for f in matplotlib.font_manager.fontManager.ttflist])"
   ]
  },
  {
   "cell_type": "code",
   "execution_count": 3,
   "metadata": {},
   "outputs": [],
   "source": [
    "matplotlib.rc(\"font\", family=\"나눔고딕코딩\")"
   ]
  },
  {
   "cell_type": "code",
   "execution_count": 4,
   "metadata": {},
   "outputs": [
    {
     "data": {
      "text/plain": [
       "{'/Library/Fonts/Andale Mono.ttf',\n",
       " '/Library/Fonts/Apple Chancery.ttf',\n",
       " '/Library/Fonts/AppleGothic.ttf',\n",
       " '/Library/Fonts/AppleMyungjo.ttf',\n",
       " '/Library/Fonts/Arial Black.ttf',\n",
       " '/Library/Fonts/Arial Bold Italic.ttf',\n",
       " '/Library/Fonts/Arial Bold.ttf',\n",
       " '/Library/Fonts/Arial Italic.ttf',\n",
       " '/Library/Fonts/Arial Narrow Bold Italic.ttf',\n",
       " '/Library/Fonts/Arial Narrow Bold.ttf',\n",
       " '/Library/Fonts/Arial Narrow Italic.ttf',\n",
       " '/Library/Fonts/Arial Narrow.ttf',\n",
       " '/Library/Fonts/Arial Rounded Bold.ttf',\n",
       " '/Library/Fonts/Arial Unicode.ttf',\n",
       " '/Library/Fonts/Arial.ttf',\n",
       " '/Library/Fonts/Ayuthaya.ttf',\n",
       " '/Library/Fonts/BigCaslon.ttf',\n",
       " '/Library/Fonts/Bodoni 72 Smallcaps Book.ttf',\n",
       " '/Library/Fonts/Bodoni Ornaments.ttf',\n",
       " '/Library/Fonts/Bradley Hand Bold.ttf',\n",
       " '/Library/Fonts/Brush Script.ttf',\n",
       " '/Library/Fonts/Chalkduster.ttf',\n",
       " '/Library/Fonts/Comic Sans MS Bold.ttf',\n",
       " '/Library/Fonts/Comic Sans MS.ttf',\n",
       " '/Library/Fonts/Courier New Bold Italic.ttf',\n",
       " '/Library/Fonts/Courier New Bold.ttf',\n",
       " '/Library/Fonts/Courier New Italic.ttf',\n",
       " '/Library/Fonts/Courier New.ttf',\n",
       " '/Library/Fonts/DIN Alternate Bold.ttf',\n",
       " '/Library/Fonts/DIN Condensed Bold.ttf',\n",
       " '/Library/Fonts/Diwan Thuluth.ttf',\n",
       " '/Library/Fonts/Farisi.ttf',\n",
       " '/Library/Fonts/Georgia Bold Italic.ttf',\n",
       " '/Library/Fonts/Georgia Bold.ttf',\n",
       " '/Library/Fonts/Georgia Italic.ttf',\n",
       " '/Library/Fonts/Georgia.ttf',\n",
       " '/Library/Fonts/Gurmukhi.ttf',\n",
       " '/Library/Fonts/Herculanum.ttf',\n",
       " '/Library/Fonts/Hoefler Text Ornaments.ttf',\n",
       " '/Library/Fonts/Impact.ttf',\n",
       " '/Library/Fonts/Khmer Sangam MN.ttf',\n",
       " '/Library/Fonts/Kokonor.ttf',\n",
       " '/Library/Fonts/Krungthep.ttf',\n",
       " '/Library/Fonts/Lao Sangam MN.ttf',\n",
       " '/Library/Fonts/Luminari.ttf',\n",
       " '/Library/Fonts/Microsoft Sans Serif.ttf',\n",
       " '/Library/Fonts/Mishafi Gold.ttf',\n",
       " '/Library/Fonts/Mishafi.ttf',\n",
       " '/Library/Fonts/NISC18030.ttf',\n",
       " '/Library/Fonts/PlantagenetCherokee.ttf',\n",
       " '/Library/Fonts/STIXGeneral.otf',\n",
       " '/Library/Fonts/STIXGeneralBol.otf',\n",
       " '/Library/Fonts/STIXGeneralBolIta.otf',\n",
       " '/Library/Fonts/STIXGeneralItalic.otf',\n",
       " '/Library/Fonts/STIXIntDBol.otf',\n",
       " '/Library/Fonts/STIXIntDReg.otf',\n",
       " '/Library/Fonts/STIXIntSmBol.otf',\n",
       " '/Library/Fonts/STIXIntSmReg.otf',\n",
       " '/Library/Fonts/STIXIntUpBol.otf',\n",
       " '/Library/Fonts/STIXIntUpDBol.otf',\n",
       " '/Library/Fonts/STIXIntUpDReg.otf',\n",
       " '/Library/Fonts/STIXIntUpReg.otf',\n",
       " '/Library/Fonts/STIXIntUpSmBol.otf',\n",
       " '/Library/Fonts/STIXIntUpSmReg.otf',\n",
       " '/Library/Fonts/STIXNonUni.otf',\n",
       " '/Library/Fonts/STIXNonUniBol.otf',\n",
       " '/Library/Fonts/STIXNonUniBolIta.otf',\n",
       " '/Library/Fonts/STIXNonUniIta.otf',\n",
       " '/Library/Fonts/STIXSizFiveSymReg.otf',\n",
       " '/Library/Fonts/STIXSizFourSymBol.otf',\n",
       " '/Library/Fonts/STIXSizFourSymReg.otf',\n",
       " '/Library/Fonts/STIXSizOneSymBol.otf',\n",
       " '/Library/Fonts/STIXSizOneSymReg.otf',\n",
       " '/Library/Fonts/STIXSizThreeSymBol.otf',\n",
       " '/Library/Fonts/STIXSizThreeSymReg.otf',\n",
       " '/Library/Fonts/STIXSizTwoSymBol.otf',\n",
       " '/Library/Fonts/STIXSizTwoSymReg.otf',\n",
       " '/Library/Fonts/STIXVar.otf',\n",
       " '/Library/Fonts/STIXVarBol.otf',\n",
       " '/Library/Fonts/Sathu.ttf',\n",
       " '/Library/Fonts/Silom.ttf',\n",
       " '/Library/Fonts/Skia.ttf',\n",
       " '/Library/Fonts/Tahoma Bold.ttf',\n",
       " '/Library/Fonts/Tahoma.ttf',\n",
       " '/Library/Fonts/Times New Roman Bold Italic.ttf',\n",
       " '/Library/Fonts/Times New Roman Bold.ttf',\n",
       " '/Library/Fonts/Times New Roman Italic.ttf',\n",
       " '/Library/Fonts/Times New Roman.ttf',\n",
       " '/Library/Fonts/Trattatello.ttf',\n",
       " '/Library/Fonts/Trebuchet MS Bold Italic.ttf',\n",
       " '/Library/Fonts/Trebuchet MS Bold.ttf',\n",
       " '/Library/Fonts/Trebuchet MS Italic.ttf',\n",
       " '/Library/Fonts/Trebuchet MS.ttf',\n",
       " '/Library/Fonts/Verdana Bold Italic.ttf',\n",
       " '/Library/Fonts/Verdana Bold.ttf',\n",
       " '/Library/Fonts/Verdana Italic.ttf',\n",
       " '/Library/Fonts/Verdana.ttf',\n",
       " '/Library/Fonts/Webdings.ttf',\n",
       " '/Library/Fonts/Wingdings 2.ttf',\n",
       " '/Library/Fonts/Wingdings 3.ttf',\n",
       " '/Library/Fonts/Wingdings.ttf',\n",
       " '/Library/Fonts/Zapfino.ttf',\n",
       " '/System/Library/Fonts/Apple Braille Outline 6 Dot.ttf',\n",
       " '/System/Library/Fonts/Apple Braille Outline 8 Dot.ttf',\n",
       " '/System/Library/Fonts/Apple Braille Pinpoint 6 Dot.ttf',\n",
       " '/System/Library/Fonts/Apple Braille Pinpoint 8 Dot.ttf',\n",
       " '/System/Library/Fonts/Apple Braille.ttf',\n",
       " '/System/Library/Fonts/Apple Symbols.ttf',\n",
       " '/System/Library/Fonts/Keyboard.ttf',\n",
       " '/System/Library/Fonts/LastResort.otf',\n",
       " '/System/Library/Fonts/SFCompactDisplay-Black.otf',\n",
       " '/System/Library/Fonts/SFCompactDisplay-Bold.otf',\n",
       " '/System/Library/Fonts/SFCompactDisplay-Heavy.otf',\n",
       " '/System/Library/Fonts/SFCompactDisplay-Light.otf',\n",
       " '/System/Library/Fonts/SFCompactDisplay-Medium.otf',\n",
       " '/System/Library/Fonts/SFCompactDisplay-Regular.otf',\n",
       " '/System/Library/Fonts/SFCompactDisplay-Semibold.otf',\n",
       " '/System/Library/Fonts/SFCompactDisplay-Thin.otf',\n",
       " '/System/Library/Fonts/SFCompactDisplay-Ultralight.otf',\n",
       " '/System/Library/Fonts/SFCompactRounded-Black.otf',\n",
       " '/System/Library/Fonts/SFCompactRounded-Bold.otf',\n",
       " '/System/Library/Fonts/SFCompactRounded-Heavy.otf',\n",
       " '/System/Library/Fonts/SFCompactRounded-Light.otf',\n",
       " '/System/Library/Fonts/SFCompactRounded-Medium.otf',\n",
       " '/System/Library/Fonts/SFCompactRounded-Regular.otf',\n",
       " '/System/Library/Fonts/SFCompactRounded-Semibold.otf',\n",
       " '/System/Library/Fonts/SFCompactRounded-Thin.otf',\n",
       " '/System/Library/Fonts/SFCompactRounded-Ultralight.otf',\n",
       " '/System/Library/Fonts/SFCompactText-Bold.otf',\n",
       " '/System/Library/Fonts/SFCompactText-BoldItalic.otf',\n",
       " '/System/Library/Fonts/SFCompactText-Heavy.otf',\n",
       " '/System/Library/Fonts/SFCompactText-HeavyItalic.otf',\n",
       " '/System/Library/Fonts/SFCompactText-Light.otf',\n",
       " '/System/Library/Fonts/SFCompactText-LightItalic.otf',\n",
       " '/System/Library/Fonts/SFCompactText-Medium.otf',\n",
       " '/System/Library/Fonts/SFCompactText-MediumItalic.otf',\n",
       " '/System/Library/Fonts/SFCompactText-Regular.otf',\n",
       " '/System/Library/Fonts/SFCompactText-RegularItalic.otf',\n",
       " '/System/Library/Fonts/SFCompactText-Semibold.otf',\n",
       " '/System/Library/Fonts/SFCompactText-SemiboldItalic.otf',\n",
       " '/System/Library/Fonts/SFNSDisplay-BlackItalic.otf',\n",
       " '/System/Library/Fonts/SFNSDisplay-BoldItalic.otf',\n",
       " '/System/Library/Fonts/SFNSDisplay-HeavyItalic.otf',\n",
       " '/System/Library/Fonts/SFNSDisplay-LightItalic.otf',\n",
       " '/System/Library/Fonts/SFNSDisplay-MediumItalic.otf',\n",
       " '/System/Library/Fonts/SFNSDisplay-RegularItalic.otf',\n",
       " '/System/Library/Fonts/SFNSDisplay-SemiboldItalic.otf',\n",
       " '/System/Library/Fonts/SFNSDisplay-ThinItalic.otf',\n",
       " '/System/Library/Fonts/SFNSDisplay-UltralightItalic.otf',\n",
       " '/System/Library/Fonts/SFNSDisplay.ttf',\n",
       " '/System/Library/Fonts/SFNSDisplayCondensed-Black.otf',\n",
       " '/System/Library/Fonts/SFNSDisplayCondensed-Bold.otf',\n",
       " '/System/Library/Fonts/SFNSDisplayCondensed-Heavy.otf',\n",
       " '/System/Library/Fonts/SFNSDisplayCondensed-Light.otf',\n",
       " '/System/Library/Fonts/SFNSDisplayCondensed-Medium.otf',\n",
       " '/System/Library/Fonts/SFNSDisplayCondensed-Regular.otf',\n",
       " '/System/Library/Fonts/SFNSDisplayCondensed-Semibold.otf',\n",
       " '/System/Library/Fonts/SFNSDisplayCondensed-Thin.otf',\n",
       " '/System/Library/Fonts/SFNSDisplayCondensed-Ultralight.otf',\n",
       " '/System/Library/Fonts/SFNSSymbols-Regular.otf',\n",
       " '/System/Library/Fonts/SFNSText.ttf',\n",
       " '/System/Library/Fonts/SFNSTextCondensed-Bold.otf',\n",
       " '/System/Library/Fonts/SFNSTextCondensed-Heavy.otf',\n",
       " '/System/Library/Fonts/SFNSTextCondensed-Light.otf',\n",
       " '/System/Library/Fonts/SFNSTextCondensed-Medium.otf',\n",
       " '/System/Library/Fonts/SFNSTextCondensed-Regular.otf',\n",
       " '/System/Library/Fonts/SFNSTextCondensed-Semibold.otf',\n",
       " '/System/Library/Fonts/SFNSTextItalic.ttf',\n",
       " '/System/Library/Fonts/Symbol.ttf',\n",
       " '/System/Library/Fonts/ZapfDingbats.ttf',\n",
       " '/Users/duyeoungryu/Library/Fonts/NanumBarunGothic.ttf',\n",
       " '/Users/duyeoungryu/Library/Fonts/Ubuntu Mono derivative Powerline.ttf'}"
      ]
     },
     "execution_count": 4,
     "metadata": {},
     "output_type": "execute_result"
    }
   ],
   "source": [
    "set([f for f in matplotlib.font_manager.OSXInstalledFonts()])"
   ]
  },
  {
   "cell_type": "code",
   "execution_count": 8,
   "metadata": {},
   "outputs": [],
   "source": [
    "%matplotlib inline"
   ]
  },
  {
   "cell_type": "code",
   "execution_count": 11,
   "metadata": {
    "scrolled": true
   },
   "outputs": [
    {
     "name": "stderr",
     "output_type": "stream",
     "text": [
      "/usr/local/lib/python3.6/site-packages/matplotlib/font_manager.py:1328: UserWarning: findfont: Font family ['나눔고딕코딩'] not found. Falling back to DejaVu Sans\n",
      "  (prop.get_family(), self.defaultFamily[fontext]))\n"
     ]
    },
    {
     "data": {
      "image/png": "[encoded data removed]",
      "text/plain": [
       "<Figure size 432x288 with 1 Axes>"
      ]
     },
     "metadata": {},
     "output_type": "display_data"
    }
   ],
   "source": [
    "import random \n",
    "cf = matplotlib.font_manager.FontProperties(\"나눔고딕코딩\", fname='/Users/duyeoungryu/Library/Fonts/NanumBarunGothic.ttf', size=20) \n",
    "xs = [int(random.random()*10) for i in range(20)] \n",
    "plt.plot(xs) \n",
    "plt.title(\"그래프 제목\", fontproperties=cf) \n",
    "plt.show()"
   ]
  },
  {
   "cell_type": "code",
   "execution_count": 12,
   "metadata": {},
   "outputs": [],
   "source": [
    "matplotlib.rc('font', family='NanumBarunGothic')\n",
    "\n",
    "plt.rcParams['axes.unicode_minus'] = False"
   ]
  },
  {
   "cell_type": "code",
   "execution_count": null,
   "metadata": {},
   "outputs": [],
   "source": []
  },
  {
   "cell_type": "code",
   "execution_count": 14,
   "metadata": {},
   "outputs": [
    {
     "name": "stdout",
     "output_type": "stream",
     "text": [
      "201\n"
     ]
    },
    {
     "data": {
      "text/plain": [
       "['/System/Library/Fonts/SFNSDisplay-ThinItalic.otf',\n",
       " '/Users/duyeoungryu/Library/Fonts/Ubuntu Mono derivative Powerline.ttf',\n",
       " '/System/Library/Fonts/SFCompactRounded-Semibold.otf',\n",
       " '/System/Library/Fonts/SFNSDisplay-HeavyItalic.otf',\n",
       " '/System/Library/Fonts/SFNSSymbols-Regular.otf',\n",
       " '/System/Library/Fonts/SFCompactText-Heavy.otf',\n",
       " '/Library/Fonts/Ayuthaya.ttf',\n",
       " '/System/Library/Assets/com_apple_MobileAsset_Font4/d1d3b26617ad607c3baebd7050891cadc569262d.asset/AssetData/OsakaMono.ttf',\n",
       " '/System/Library/Assets/com_apple_MobileAsset_Font4/714b3197966fe770a7bc4f169c696ae161587834.asset/AssetData/WeibeiSC-Bold.otf',\n",
       " '/System/Library/Fonts/SFCompactText-LightItalic.otf']"
      ]
     },
     "execution_count": 14,
     "metadata": {},
     "output_type": "execute_result"
    }
   ],
   "source": [
    "import matplotlib.font_manager as font_manager\n",
    "\n",
    "font_list = font_manager.findSystemFonts(fontpaths=None, fontext='ttf')\n",
    "\n",
    "# 전체개수\n",
    "print(len(font_list)) \n",
    "\n",
    "# 처음 10개만 출력\n",
    "font_list[:10]"
   ]
  },
  {
   "cell_type": "code",
   "execution_count": 15,
   "metadata": {},
   "outputs": [
    {
     "name": "stdout",
     "output_type": "stream",
     "text": [
      "207\n"
     ]
    },
    {
     "data": {
      "text/plain": [
       "['STIXSizeThreeSym',\n",
       " 'DejaVu Sans Display',\n",
       " 'DejaVu Serif',\n",
       " 'DejaVu Sans Mono',\n",
       " 'STIXNonUnicode',\n",
       " 'STIXSizeOneSym',\n",
       " 'STIXSizeOneSym',\n",
       " 'cmss10',\n",
       " 'DejaVu Serif',\n",
       " 'cmb10']"
      ]
     },
     "execution_count": 15,
     "metadata": {},
     "output_type": "execute_result"
    }
   ],
   "source": [
    "import matplotlib\n",
    "import matplotlib.font_manager\n",
    "\n",
    "font_list = [f.name for f in matplotlib.font_manager.fontManager.ttflist]\n",
    "print(len(font_list))\n",
    "\n",
    "font_list[:10]"
   ]
  },
  {
   "cell_type": "code",
   "execution_count": 17,
   "metadata": {},
   "outputs": [],
   "source": [
    "matplotlib.font_manager._rebuild()"
   ]
  },
  {
   "cell_type": "code",
   "execution_count": null,
   "metadata": {},
   "outputs": [],
   "source": []
  }
 ],
 "metadata": {
  "kernelspec": {
   "display_name": "Python 3",
   "language": "python",
   "name": "python3"
  },
  "language_info": {
   "codemirror_mode": {
    "name": "ipython",
    "version": 3
   },
   "file_extension": ".py",
   "mimetype": "text/x-python",
   "name": "python",
   "nbconvert_exporter": "python",
   "pygments_lexer": "ipython3",
   "version": "3.6.5"
  }
 },
 "nbformat": 4,
 "nbformat_minor": 2
}
